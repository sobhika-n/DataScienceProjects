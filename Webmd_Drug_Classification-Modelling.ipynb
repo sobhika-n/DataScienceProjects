{
 "cells": [
  {
   "cell_type": "code",
   "execution_count": 1,
   "id": "5692b9e5",
   "metadata": {},
   "outputs": [],
   "source": [
    "# Import libraries\n",
    "import numpy as np\n",
    "import pandas as pd\n",
    "\n",
    "import matplotlib.pyplot as plt\n",
    "import seaborn as sns\n",
    "%matplotlib inline\n",
    "\n",
    "import warnings\n",
    "warnings.filterwarnings('ignore')"
   ]
  },
  {
   "cell_type": "code",
   "execution_count": 2,
   "id": "e31825ee",
   "metadata": {},
   "outputs": [],
   "source": [
    "df = pd.read_csv('Drug_SideEffects_new.csv')"
   ]
  },
  {
   "cell_type": "code",
   "execution_count": 3,
   "id": "c2b4795e",
   "metadata": {},
   "outputs": [
    {
     "data": {
      "text/html": [
       "<div>\n",
       "<style scoped>\n",
       "    .dataframe tbody tr th:only-of-type {\n",
       "        vertical-align: middle;\n",
       "    }\n",
       "\n",
       "    .dataframe tbody tr th {\n",
       "        vertical-align: top;\n",
       "    }\n",
       "\n",
       "    .dataframe thead th {\n",
       "        text-align: right;\n",
       "    }\n",
       "</style>\n",
       "<table border=\"1\" class=\"dataframe\">\n",
       "  <thead>\n",
       "    <tr style=\"text-align: right;\">\n",
       "      <th></th>\n",
       "      <th>Age</th>\n",
       "      <th>Condition</th>\n",
       "      <th>Date</th>\n",
       "      <th>Drug</th>\n",
       "      <th>DrugId</th>\n",
       "      <th>EaseofUse</th>\n",
       "      <th>Effectiveness</th>\n",
       "      <th>Reviews</th>\n",
       "      <th>Satisfaction</th>\n",
       "      <th>Sex</th>\n",
       "      <th>Sides</th>\n",
       "      <th>UsefulCount</th>\n",
       "      <th>Name</th>\n",
       "      <th>Race</th>\n",
       "      <th>SideEffects</th>\n",
       "    </tr>\n",
       "  </thead>\n",
       "  <tbody>\n",
       "    <tr>\n",
       "      <th>0</th>\n",
       "      <td>75+</td>\n",
       "      <td>Stuffy Nose</td>\n",
       "      <td>2014-09-21</td>\n",
       "      <td>25dph-7.5peh</td>\n",
       "      <td>146724</td>\n",
       "      <td>5</td>\n",
       "      <td>5</td>\n",
       "      <td>I'm a retired physician and of all the meds I ...</td>\n",
       "      <td>5</td>\n",
       "      <td>Male</td>\n",
       "      <td>Drowsiness,  dizziness ,  dry mouth /nose/thro...</td>\n",
       "      <td>0</td>\n",
       "      <td>Scott Robertson</td>\n",
       "      <td>White</td>\n",
       "      <td>Mild</td>\n",
       "    </tr>\n",
       "    <tr>\n",
       "      <th>1</th>\n",
       "      <td>25-34</td>\n",
       "      <td>Cold Symptoms</td>\n",
       "      <td>2011-01-13</td>\n",
       "      <td>25dph-7.5peh</td>\n",
       "      <td>146724</td>\n",
       "      <td>5</td>\n",
       "      <td>5</td>\n",
       "      <td>cleared me right up even with my throat hurtin...</td>\n",
       "      <td>5</td>\n",
       "      <td>Female</td>\n",
       "      <td>Drowsiness,  dizziness ,  dry mouth /nose/thro...</td>\n",
       "      <td>1</td>\n",
       "      <td>Rodney Wright</td>\n",
       "      <td>White</td>\n",
       "      <td>Mild</td>\n",
       "    </tr>\n",
       "    <tr>\n",
       "      <th>2</th>\n",
       "      <td>25-34</td>\n",
       "      <td>Birth Control</td>\n",
       "      <td>2017-06-15</td>\n",
       "      <td>wymzya fe</td>\n",
       "      <td>163180</td>\n",
       "      <td>5</td>\n",
       "      <td>5</td>\n",
       "      <td>Haven't gotten pregnant so it does it's job. I...</td>\n",
       "      <td>2</td>\n",
       "      <td>Female</td>\n",
       "      <td>Nausea ,  vomiting ,  headache ,  bloating ,  ...</td>\n",
       "      <td>0</td>\n",
       "      <td>Andrew Miller</td>\n",
       "      <td>Hispanic</td>\n",
       "      <td>Mild</td>\n",
       "    </tr>\n",
       "    <tr>\n",
       "      <th>3</th>\n",
       "      <td>45-54</td>\n",
       "      <td>Disease of Ovaries with Cysts</td>\n",
       "      <td>2017-01-30</td>\n",
       "      <td>wymzya fe</td>\n",
       "      <td>163180</td>\n",
       "      <td>5</td>\n",
       "      <td>5</td>\n",
       "      <td>I have take this for 5 years age 45-50 to prev...</td>\n",
       "      <td>5</td>\n",
       "      <td>Female</td>\n",
       "      <td>Nausea ,  vomiting ,  headache ,  bloating ,  ...</td>\n",
       "      <td>0</td>\n",
       "      <td>Christina Anthony</td>\n",
       "      <td>Black</td>\n",
       "      <td>Mild</td>\n",
       "    </tr>\n",
       "    <tr>\n",
       "      <th>4</th>\n",
       "      <td>55-64</td>\n",
       "      <td>Stuffy Nose</td>\n",
       "      <td>2012-10-29</td>\n",
       "      <td>12 hour nasal relief spray, non-aerosol</td>\n",
       "      <td>9800</td>\n",
       "      <td>4</td>\n",
       "      <td>2</td>\n",
       "      <td>The 12 hour spray only works for me for 6 hours.</td>\n",
       "      <td>2</td>\n",
       "      <td>Male</td>\n",
       "      <td>Temporary burning, stinging, dryness in the no...</td>\n",
       "      <td>0</td>\n",
       "      <td>Paul Warren</td>\n",
       "      <td>Asian</td>\n",
       "      <td>Moderate</td>\n",
       "    </tr>\n",
       "  </tbody>\n",
       "</table>\n",
       "</div>"
      ],
      "text/plain": [
       "     Age                      Condition        Date  \\\n",
       "0    75+                    Stuffy Nose  2014-09-21   \n",
       "1  25-34                  Cold Symptoms  2011-01-13   \n",
       "2  25-34                  Birth Control  2017-06-15   \n",
       "3  45-54  Disease of Ovaries with Cysts  2017-01-30   \n",
       "4  55-64                    Stuffy Nose  2012-10-29   \n",
       "\n",
       "                                      Drug  DrugId  EaseofUse  Effectiveness  \\\n",
       "0                             25dph-7.5peh  146724          5              5   \n",
       "1                             25dph-7.5peh  146724          5              5   \n",
       "2                                wymzya fe  163180          5              5   \n",
       "3                                wymzya fe  163180          5              5   \n",
       "4  12 hour nasal relief spray, non-aerosol    9800          4              2   \n",
       "\n",
       "                                             Reviews  Satisfaction     Sex  \\\n",
       "0  I'm a retired physician and of all the meds I ...             5    Male   \n",
       "1  cleared me right up even with my throat hurtin...             5  Female   \n",
       "2  Haven't gotten pregnant so it does it's job. I...             2  Female   \n",
       "3  I have take this for 5 years age 45-50 to prev...             5  Female   \n",
       "4   The 12 hour spray only works for me for 6 hours.             2    Male   \n",
       "\n",
       "                                               Sides  UsefulCount  \\\n",
       "0  Drowsiness,  dizziness ,  dry mouth /nose/thro...            0   \n",
       "1  Drowsiness,  dizziness ,  dry mouth /nose/thro...            1   \n",
       "2  Nausea ,  vomiting ,  headache ,  bloating ,  ...            0   \n",
       "3  Nausea ,  vomiting ,  headache ,  bloating ,  ...            0   \n",
       "4  Temporary burning, stinging, dryness in the no...            0   \n",
       "\n",
       "                Name      Race SideEffects  \n",
       "0    Scott Robertson     White        Mild  \n",
       "1      Rodney Wright     White        Mild  \n",
       "2      Andrew Miller  Hispanic        Mild  \n",
       "3  Christina Anthony     Black        Mild  \n",
       "4        Paul Warren     Asian    Moderate  "
      ]
     },
     "execution_count": 3,
     "metadata": {},
     "output_type": "execute_result"
    }
   ],
   "source": [
    "df.head()"
   ]
  },
  {
   "cell_type": "code",
   "execution_count": 4,
   "id": "b14e0f8c",
   "metadata": {},
   "outputs": [
    {
     "data": {
      "text/html": [
       "<div>\n",
       "<style scoped>\n",
       "    .dataframe tbody tr th:only-of-type {\n",
       "        vertical-align: middle;\n",
       "    }\n",
       "\n",
       "    .dataframe tbody tr th {\n",
       "        vertical-align: top;\n",
       "    }\n",
       "\n",
       "    .dataframe thead th {\n",
       "        text-align: right;\n",
       "    }\n",
       "</style>\n",
       "<table border=\"1\" class=\"dataframe\">\n",
       "  <thead>\n",
       "    <tr style=\"text-align: right;\">\n",
       "      <th></th>\n",
       "      <th>Age</th>\n",
       "      <th>DrugId</th>\n",
       "      <th>Sex</th>\n",
       "      <th>Race</th>\n",
       "      <th>SideEffects</th>\n",
       "    </tr>\n",
       "  </thead>\n",
       "  <tbody>\n",
       "    <tr>\n",
       "      <th>0</th>\n",
       "      <td>75+</td>\n",
       "      <td>146724</td>\n",
       "      <td>Male</td>\n",
       "      <td>White</td>\n",
       "      <td>Mild</td>\n",
       "    </tr>\n",
       "    <tr>\n",
       "      <th>1</th>\n",
       "      <td>25-34</td>\n",
       "      <td>146724</td>\n",
       "      <td>Female</td>\n",
       "      <td>White</td>\n",
       "      <td>Mild</td>\n",
       "    </tr>\n",
       "    <tr>\n",
       "      <th>2</th>\n",
       "      <td>25-34</td>\n",
       "      <td>163180</td>\n",
       "      <td>Female</td>\n",
       "      <td>Hispanic</td>\n",
       "      <td>Mild</td>\n",
       "    </tr>\n",
       "    <tr>\n",
       "      <th>3</th>\n",
       "      <td>45-54</td>\n",
       "      <td>163180</td>\n",
       "      <td>Female</td>\n",
       "      <td>Black</td>\n",
       "      <td>Mild</td>\n",
       "    </tr>\n",
       "    <tr>\n",
       "      <th>4</th>\n",
       "      <td>55-64</td>\n",
       "      <td>9800</td>\n",
       "      <td>Male</td>\n",
       "      <td>Asian</td>\n",
       "      <td>Moderate</td>\n",
       "    </tr>\n",
       "  </tbody>\n",
       "</table>\n",
       "</div>"
      ],
      "text/plain": [
       "     Age  DrugId     Sex      Race SideEffects\n",
       "0    75+  146724    Male     White        Mild\n",
       "1  25-34  146724  Female     White        Mild\n",
       "2  25-34  163180  Female  Hispanic        Mild\n",
       "3  45-54  163180  Female     Black        Mild\n",
       "4  55-64    9800    Male     Asian    Moderate"
      ]
     },
     "execution_count": 4,
     "metadata": {},
     "output_type": "execute_result"
    }
   ],
   "source": [
    "# Drop unwanted columns\n",
    "columns_to_drop = ['Condition', 'Date','EaseofUse','Effectiveness','Reviews','Satisfaction','UsefulCount','Name','Drug','Sides']\n",
    "df = df.drop(columns_to_drop, axis=1)\n",
    "df.head()"
   ]
  },
  {
   "cell_type": "code",
   "execution_count": 16,
   "id": "c9a8b781",
   "metadata": {},
   "outputs": [
    {
     "data": {
      "text/html": [
       "<div>\n",
       "<style scoped>\n",
       "    .dataframe tbody tr th:only-of-type {\n",
       "        vertical-align: middle;\n",
       "    }\n",
       "\n",
       "    .dataframe tbody tr th {\n",
       "        vertical-align: top;\n",
       "    }\n",
       "\n",
       "    .dataframe thead th {\n",
       "        text-align: right;\n",
       "    }\n",
       "</style>\n",
       "<table border=\"1\" class=\"dataframe\">\n",
       "  <thead>\n",
       "    <tr style=\"text-align: right;\">\n",
       "      <th></th>\n",
       "      <th>Age</th>\n",
       "      <th>DrugId</th>\n",
       "      <th>Sex</th>\n",
       "      <th>Race</th>\n",
       "      <th>SideEffects</th>\n",
       "    </tr>\n",
       "  </thead>\n",
       "  <tbody>\n",
       "    <tr>\n",
       "      <th>0</th>\n",
       "      <td>10</td>\n",
       "      <td>146724</td>\n",
       "      <td>1</td>\n",
       "      <td>3</td>\n",
       "      <td>Mild</td>\n",
       "    </tr>\n",
       "    <tr>\n",
       "      <th>1</th>\n",
       "      <td>3</td>\n",
       "      <td>146724</td>\n",
       "      <td>0</td>\n",
       "      <td>3</td>\n",
       "      <td>Mild</td>\n",
       "    </tr>\n",
       "    <tr>\n",
       "      <th>2</th>\n",
       "      <td>3</td>\n",
       "      <td>163180</td>\n",
       "      <td>0</td>\n",
       "      <td>2</td>\n",
       "      <td>Mild</td>\n",
       "    </tr>\n",
       "    <tr>\n",
       "      <th>3</th>\n",
       "      <td>6</td>\n",
       "      <td>163180</td>\n",
       "      <td>0</td>\n",
       "      <td>1</td>\n",
       "      <td>Mild</td>\n",
       "    </tr>\n",
       "    <tr>\n",
       "      <th>4</th>\n",
       "      <td>7</td>\n",
       "      <td>9800</td>\n",
       "      <td>1</td>\n",
       "      <td>0</td>\n",
       "      <td>Moderate</td>\n",
       "    </tr>\n",
       "  </tbody>\n",
       "</table>\n",
       "</div>"
      ],
      "text/plain": [
       "   Age  DrugId  Sex  Race SideEffects\n",
       "0   10  146724    1     3        Mild\n",
       "1    3  146724    0     3        Mild\n",
       "2    3  163180    0     2        Mild\n",
       "3    6  163180    0     1        Mild\n",
       "4    7    9800    1     0    Moderate"
      ]
     },
     "execution_count": 16,
     "metadata": {},
     "output_type": "execute_result"
    }
   ],
   "source": [
    "df.head()"
   ]
  },
  {
   "cell_type": "code",
   "execution_count": 5,
   "id": "d9d33483",
   "metadata": {},
   "outputs": [],
   "source": [
    "from sklearn.preprocessing import LabelEncoder\n",
    "le = LabelEncoder()\n",
    "df['Age'] = le.fit_transform(df['Age'])\n",
    "df['Sex'] = le.fit_transform(df['Sex'])\n",
    "df['Race'] = le.fit_transform(df['Race'])"
   ]
  },
  {
   "cell_type": "code",
   "execution_count": 6,
   "id": "c768d8bd",
   "metadata": {},
   "outputs": [],
   "source": [
    "from sklearn.model_selection import train_test_split\n",
    "# Split the dataset into features and target variable\n",
    "X = df.drop(['SideEffects'],axis=1)\n",
    "y = df['SideEffects']"
   ]
  },
  {
   "cell_type": "code",
   "execution_count": 7,
   "id": "20045508",
   "metadata": {},
   "outputs": [],
   "source": [
    "# Split the data into training and testing sets\n",
    "X_train, X_test, y_train, y_test = train_test_split(X, y, test_size=0.2, random_state=42)"
   ]
  },
  {
   "cell_type": "markdown",
   "id": "bbfe4299",
   "metadata": {},
   "source": [
    "### Classification Models"
   ]
  },
  {
   "cell_type": "code",
   "execution_count": 8,
   "id": "9a62d6c0",
   "metadata": {},
   "outputs": [],
   "source": [
    "# Import classifiers\n",
    "from sklearn.linear_model import LogisticRegression\n",
    "from sklearn.ensemble import RandomForestClassifier\n",
    "import xgboost as xgb\n",
    "from sklearn.metrics import accuracy_score, precision_score, recall_score, f1_score, confusion_matrix, classification_report"
   ]
  },
  {
   "cell_type": "code",
   "execution_count": 9,
   "id": "b4141573",
   "metadata": {},
   "outputs": [],
   "source": [
    "# Function to train and evaluate models\n",
    "def train_and_evaluate_models(model, X_train, y_train, X_test, y_test):\n",
    "    model.fit(X_train, y_train)\n",
    "    y_pred = model.predict(X_test)\n",
    "\n",
    "    # Model Evaluation\n",
    "    accuracy = accuracy_score(y_test, y_pred)\n",
    "    precision = precision_score(y_test, y_pred, average='weighted')\n",
    "    recall = recall_score(y_test, y_pred, average='weighted')\n",
    "    f1 = f1_score(y_test, y_pred, average='weighted')\n",
    "\n",
    "    cm = confusion_matrix(y_test, y_pred)\n",
    "    report = classification_report(y_test, y_pred)\n",
    "\n",
    "    # Print results\n",
    "    print(\"Confusion matrix: \", cm)\n",
    "    print(\"Classification Report:\")\n",
    "    print(report)\n",
    "\n",
    "    print(\"Accuracy:\", accuracy)\n",
    "    print(\"Precision:\", precision)\n",
    "    print(\"Recall:\", recall)\n",
    "    print(\"F1-score:\", f1)"
   ]
  },
  {
   "cell_type": "code",
   "execution_count": 10,
   "id": "bf63e75d",
   "metadata": {},
   "outputs": [
    {
     "name": "stdout",
     "output_type": "stream",
     "text": [
      "Confusion matrix:  [[48387   410   313]\n",
      " [  606  3694    97]\n",
      " [  496    96  1924]]\n",
      "Classification Report:\n",
      "              precision    recall  f1-score   support\n",
      "\n",
      "        Mild       0.98      0.99      0.98     49110\n",
      "    Moderate       0.88      0.84      0.86      4397\n",
      "         Nil       0.82      0.76      0.79      2516\n",
      "\n",
      "    accuracy                           0.96     56023\n",
      "   macro avg       0.89      0.86      0.88     56023\n",
      "weighted avg       0.96      0.96      0.96     56023\n",
      "\n",
      "Accuracy: 0.9639790800207058\n",
      "Precision: 0.9631354039552922\n",
      "Recall: 0.9639790800207058\n",
      "F1-score: 0.9634588473189306\n"
     ]
    }
   ],
   "source": [
    "# Train and evaluate RandomForestClassifier\n",
    "model = RandomForestClassifier()\n",
    "train_and_evaluate_models(model, X_train, y_train, X_test, y_test)"
   ]
  },
  {
   "cell_type": "code",
   "execution_count": 11,
   "id": "8ad55b8e",
   "metadata": {},
   "outputs": [
    {
     "name": "stdout",
     "output_type": "stream",
     "text": [
      "Confusion matrix:  [[49107     3     0]\n",
      " [ 4397     0     0]\n",
      " [ 2516     0     0]]\n",
      "Classification Report:\n",
      "              precision    recall  f1-score   support\n",
      "\n",
      "        Mild       0.88      1.00      0.93     49110\n",
      "    Moderate       0.00      0.00      0.00      4397\n",
      "         Nil       0.00      0.00      0.00      2516\n",
      "\n",
      "    accuracy                           0.88     56023\n",
      "   macro avg       0.29      0.33      0.31     56023\n",
      "weighted avg       0.77      0.88      0.82     56023\n",
      "\n",
      "Accuracy: 0.8765507023900898\n",
      "Precision: 0.768429221606164\n",
      "Recall: 0.8765507023900898\n",
      "F1-score: 0.8189366497551093\n"
     ]
    }
   ],
   "source": [
    "# Train and evaluate LogisticRegression\n",
    "model = LogisticRegression()\n",
    "train_and_evaluate_models(model, X_train, y_train, X_test, y_test)"
   ]
  },
  {
   "cell_type": "code",
   "execution_count": 12,
   "id": "36f7c6d1",
   "metadata": {},
   "outputs": [
    {
     "name": "stdout",
     "output_type": "stream",
     "text": [
      "Confusion matrix:  [[48723   248   139]\n",
      " [ 2159  2199    39]\n",
      " [ 1645    51   820]]\n",
      "Classification Report:\n",
      "              precision    recall  f1-score   support\n",
      "\n",
      "        Mild       0.93      0.99      0.96     49110\n",
      "    Moderate       0.88      0.50      0.64      4397\n",
      "         Nil       0.82      0.33      0.47      2516\n",
      "\n",
      "    accuracy                           0.92     56023\n",
      "   macro avg       0.88      0.61      0.69     56023\n",
      "weighted avg       0.92      0.92      0.91     56023\n",
      "\n",
      "Accuracy: 0.9235849561787123\n",
      "Precision: 0.9191119907867402\n",
      "Recall: 0.9235849561787123\n",
      "F1-score: 0.9114795830735137\n"
     ]
    }
   ],
   "source": [
    "# Train and evaluate LGBMClassifier\n",
    "import lightgbm as lgb\n",
    "model = lgb.LGBMClassifier()\n",
    "train_and_evaluate_models(model, X_train, y_train, X_test, y_test)"
   ]
  },
  {
   "cell_type": "code",
   "execution_count": 13,
   "id": "131b2ea7",
   "metadata": {},
   "outputs": [
    {
     "name": "stdout",
     "output_type": "stream",
     "text": [
      "Confusion matrix:  [[49073    22    15]\n",
      " [  494  3890    13]\n",
      " [  385    35  2096]]\n",
      "Classification Report:\n",
      "              precision    recall  f1-score   support\n",
      "\n",
      "           0       0.98      1.00      0.99     49110\n",
      "           1       0.99      0.88      0.93      4397\n",
      "           2       0.99      0.83      0.90      2516\n",
      "\n",
      "    accuracy                           0.98     56023\n",
      "   macro avg       0.98      0.91      0.94     56023\n",
      "weighted avg       0.98      0.98      0.98     56023\n",
      "\n",
      "Accuracy: 0.9827927815361548\n",
      "Precision: 0.9828490150312853\n",
      "Recall: 0.9827927815361548\n",
      "F1-score: 0.9822530068750405\n"
     ]
    }
   ],
   "source": [
    "# Train and evaluate XGBoost Classifier\n",
    "import xgboost as xgb\n",
    "\n",
    "# Encode the target variable\n",
    "y_train_encoded = le.fit_transform(y_train)\n",
    "y_test_encoded = le.transform(y_test)\n",
    "\n",
    "# Create an XGBoost classifier\n",
    "model = xgb.XGBClassifier()\n",
    "\n",
    "# Train and evaluate the model\n",
    "train_and_evaluate_models(model, X_train, y_train_encoded, X_test, y_test_encoded)"
   ]
  },
  {
   "cell_type": "markdown",
   "id": "62e18b2c",
   "metadata": {},
   "source": [
    "Based on the evaluation of various machine learning algorithms, XGBoost consistently outperformed the other models with the highest metrics, making it the preferred choice for this task. Therefore, XGBoost is being selected as the algorithm of choice for this specific scenario."
   ]
  },
  {
   "cell_type": "markdown",
   "id": "9a6c3a1c",
   "metadata": {},
   "source": [
    "### Apply cross-validation to assess the model's behavior and potential overfitting"
   ]
  },
  {
   "cell_type": "code",
   "execution_count": 19,
   "id": "6c1bc9a0",
   "metadata": {},
   "outputs": [
    {
     "data": {
      "image/png": "[encoded data removed]",
      "text/plain": [
       "<Figure size 800x600 with 1 Axes>"
      ]
     },
     "metadata": {},
     "output_type": "display_data"
    },
    {
     "name": "stdout",
     "output_type": "stream",
     "text": [
      "Cross-Validation Scores: [0.97942791 0.97927172 0.98047659 0.9786916  0.97909322]\n",
      "Mean Accuracy: 0.9793922084876613\n",
      "Standard Deviation: 0.0005953038920309403\n"
     ]
    }
   ],
   "source": [
    "# Import cross-validation and learning_curve libraries\n",
    "from sklearn.model_selection import learning_curve, cross_val_score\n",
    "\n",
    "# Function to plot learning curve\n",
    "def plot_learning_curve(estimator, X, y, cv, train_sizes=np.linspace(0.1, 1.0, 5)):\n",
    "    train_sizes, train_scores, val_scores = learning_curve(estimator, X, y, cv=cv, train_sizes=train_sizes, scoring='accuracy')\n",
    "    train_scores_mean = np.mean(train_scores, axis=1)\n",
    "    train_scores_std = np.std(train_scores, axis=1)\n",
    "    val_scores_mean = np.mean(val_scores, axis=1)\n",
    "    val_scores_std = np.std(val_scores, axis=1)\n",
    "\n",
    "    plt.figure(figsize=(8, 6))\n",
    "    plt.title('Learning Curve')\n",
    "    plt.xlabel('Training Examples')\n",
    "    plt.ylabel('Score')\n",
    "    plt.grid(True)\n",
    "\n",
    "    plt.fill_between(train_sizes, train_scores_mean - train_scores_std, train_scores_mean + train_scores_std, alpha=0.1, color='r')\n",
    "    plt.fill_between(train_sizes, val_scores_mean - val_scores_std, val_scores_mean + val_scores_std, alpha=0.1, color='g')\n",
    "    plt.plot(train_sizes, train_scores_mean, 'o-', color='r', label='Training Score')\n",
    "    plt.plot(train_sizes, val_scores_mean, 'o-', color='g', label='Validation Score')\n",
    "    plt.legend(loc='best')\n",
    "    plt.show()\n",
    "    \n",
    "# Function to evaluate model with cross-validation\n",
    "def evaluate_with_cross_validation(estimator, X, y, cv):\n",
    "    scores = cross_val_score(estimator, X, y, cv=cv, scoring='accuracy')\n",
    "    print(\"Cross-Validation Scores:\", scores)\n",
    "    print(\"Mean Accuracy:\", np.mean(scores))\n",
    "    print(\"Standard Deviation:\", np.std(scores))\n",
    "    \n",
    "# Plot learning curve and evaluate with cross-validation for XGBoost\n",
    "plot_learning_curve(model, X_train, y_train_encoded, cv=5)\n",
    "evaluate_with_cross_validation(model, X_train, y_train_encoded, cv=5)"
   ]
  },
  {
   "cell_type": "markdown",
   "id": "04504636",
   "metadata": {},
   "source": [
    "The convergence of the learning curves further suggests that the model is not overfitting and has learned the underlying patterns well."
   ]
  },
  {
   "cell_type": "markdown",
   "id": "263a529b",
   "metadata": {},
   "source": [
    "The consistent cross-validation results with a mean accuracy of approximately 0.9794 and low standard deviation suggest that the XGBoost model performs well and can reliably classify the target variable, indicating its suitability for the classification task. Furthermore, the model's stable performance across different folds indicates that it is not overfitting the training data."
   ]
  },
  {
   "cell_type": "markdown",
   "id": "e8a549e4",
   "metadata": {},
   "source": [
    "### Conclusion"
   ]
  },
  {
   "cell_type": "markdown",
   "id": "9f027045",
   "metadata": {},
   "source": [
    "In conclusion, the XGBoost model demonstrates strong performance with high accuracy, precision, recall, and F1-score. It exhibits reliable performance across subsets of the data, as indicated by consistent cross-validation scores and the convergence of learning curves. Overall, the model shows the ability to effectively classify the target variable while avoiding overfitting."
   ]
  },
  {
   "cell_type": "code",
   "execution_count": null,
   "id": "2675b88f",
   "metadata": {},
   "outputs": [],
   "source": []
  }
 ],
 "metadata": {
  "kernelspec": {
   "display_name": "Python 3 (ipykernel)",
   "language": "python",
   "name": "python3"
  },
  "language_info": {
   "codemirror_mode": {
    "name": "ipython",
    "version": 3
   },
   "file_extension": ".py",
   "mimetype": "text/x-python",
   "name": "python",
   "nbconvert_exporter": "python",
   "pygments_lexer": "ipython3",
   "version": "3.9.13"
  }
 },
 "nbformat": 4,
 "nbformat_minor": 5
}
